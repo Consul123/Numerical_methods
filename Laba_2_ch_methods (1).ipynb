{
 "cells": [
  {
   "cell_type": "code",
   "execution_count": 220,
   "metadata": {},
   "outputs": [
    {
     "name": "stdout",
     "output_type": "stream",
     "text": [
      "Плешко Георгий Дмитриевич,БПМ-161,вариант №17\n",
      "Задание №2.6.3\n",
      "Локализовать корни уравнения f(x)=0. Найти их с точностью  ε = 10^(-5) и ε = 10^(-12), используя метод Ньютона и метод, указанный в индивидуальном варианте. Сравнить скорость сходимости методов (по числу итераций) для каждого значения ε .\n",
      "f(x) = ln(x) - 2cos(x),также решить методом простых итераций\n"
     ]
    },
    {
     "data": {
      "image/png": "[encoded data removed]",
      "text/plain": [
       "<Figure size 432x288 with 1 Axes>"
      ]
     },
     "metadata": {
      "needs_background": "light"
     },
     "output_type": "display_data"
    }
   ],
   "source": [
    "import numpy as np\n",
    "import math \n",
    "import matplotlib.pyplot as plt\n",
    "print(\"Плешко Георгий Дмитриевич,БПМ-161,вариант №17\")\n",
    "print(\"Задание №2.6.3\")\n",
    "print(\"Локализовать корни уравнения f(x)=0. Найти их с точностью  ε = 10^(-5) и ε = 10^(-12), используя метод Ньютона и метод, указанный в индивидуальном варианте. Сравнить скорость сходимости методов (по числу итераций) для каждого значения ε .\")\n",
    "print(\"f(x) = ln(x) - 2cos(x),также решить методом простых итераций\")\n",
    "x = np.linspace(1, 8)\n",
    "y = np.log(x) - 2 * np.cos(x)\n",
    "plt.plot(x, y)\n",
    "plt.plot(x, x*0)\n",
    "plt.grid(True)\n",
    "\n",
    "def f(x):\n",
    "    return np.log(x) - 2 * np.cos(x)\n",
    "def der_f(x):\n",
    "    return 1/x + 2 * np.sin(x)\n",
    "def Newton(x0, f, der_f, eps):\n",
    "    k = 0\n",
    "    while True:\n",
    "        x1 = x0 - f(x0)/der_f(x0)\n",
    "        k += 1\n",
    "        if abs(x1 - x0) < eps:\n",
    "            return x1, k\n",
    "        x0 = x1"
   ]
  },
  {
   "cell_type": "code",
   "execution_count": 243,
   "metadata": {},
   "outputs": [
    {
     "name": "stdout",
     "output_type": "stream",
     "text": [
      "Метод Ньютона\n",
      "x = 1.40129, количество итераций = 3\n",
      "x = 5.78292, количество итераций = 7\n",
      "x = 6.61695, количество итераций = 4\n"
     ]
    }
   ],
   "source": [
    "print(\"Метод Ньютона\")\n",
    "print('x = %.5f, количество итераций = %d'%Newton(1,f, der_f, 1e-5))\n",
    "print('x = %.5f, количество итераций = %d'%Newton(4,f, der_f, 1e-5))\n",
    "print('x = %.5f, количество итераций = %d'%Newton(6.5,f, der_f, 1e-5))"
   ]
  },
  {
   "cell_type": "code",
   "execution_count": 244,
   "metadata": {},
   "outputs": [
    {
     "name": "stdout",
     "output_type": "stream",
     "text": [
      "Метод Ньютона\n",
      "x = 1.401289367747, количество итераций = 4\n",
      "x = 5.782917550206, количество итераций = 8\n",
      "x = 6.616946156687, количество итераций = 5\n"
     ]
    }
   ],
   "source": [
    "print(\"Метод Ньютона\")\n",
    "print('x = %.12f, количество итераций = %d'%Newton(1,f, der_f, 1e-12))\n",
    "print('x = %.12f, количество итераций = %d'%Newton(4,f, der_f, 1e-12))\n",
    "print('x = %.12f, количество итераций = %d'%Newton(6.5,f, der_f, 1e-12))"
   ]
  },
  {
   "cell_type": "code",
   "execution_count": 239,
   "metadata": {},
   "outputs": [],
   "source": [
    "\n",
    "def func(x, ks):\n",
    "    return(x - ks*(np.log(x) - 2*np.cos(x)))\n",
    "\n",
    "def Simple_Iter(eps, x_):\n",
    "    kolmin = 350\n",
    "    for ks in np.linspace(0.1,0.7,100):\n",
    "        kol = 0\n",
    "        x2 = x_\n",
    "        x1 = x2 - 0.5\n",
    "        while np.abs(x2 - x1) > eps:\n",
    "            kol += 1\n",
    "            x1 = x2\n",
    "            x2 = func(x2, ks)\n",
    "            if kol > 100:\n",
    "                break\n",
    "        if kolmin > kol:\n",
    "            kolmin = kol\n",
    "            ans = x2\n",
    "    return ans, kolmin"
   ]
  },
  {
   "cell_type": "code",
   "execution_count": 246,
   "metadata": {},
   "outputs": [
    {
     "name": "stdout",
     "output_type": "stream",
     "text": [
      "Метод простых итераций\n",
      "x = 1.40129, количество итераций = 3\n",
      "x = 1.40129, количество итераций = 18\n",
      "x = 6.61694, количество итераций = 12\n"
     ]
    }
   ],
   "source": [
    "print(\"Метод простых итераций\")\n",
    "print('x = %.5f, количество итераций = %d'%Simple_Iter(1e-5,1))\n",
    "print('x = %.5f, количество итераций = %d'%Simple_Iter(1e-5,5.75))\n",
    "print('x = %.5f, количество итераций = %d'%Simple_Iter(1e-5,6.5))"
   ]
  },
  {
   "cell_type": "code",
   "execution_count": 247,
   "metadata": {},
   "outputs": [
    {
     "name": "stdout",
     "output_type": "stream",
     "text": [
      "Метод простых итераций\n",
      "x = 1.401289367747, количество итераций = 8\n",
      "x = 1.401289367747, количество итераций = 10\n",
      "x = 6.616946156687, количество итераций = 32\n",
      "Как видно из сравнения методов по количеству итераций,метод Ньютона имеет меньшее число операций,чем метод простых итераций,а значит его скорость сходимости выше\n"
     ]
    }
   ],
   "source": [
    "print(\"Метод простых итераций\")\n",
    "print('x = %.12f, количество итераций = %d'%Simple_Iter(1e-12,4))\n",
    "print('x = %.12f, количество итераций = %d'%Simple_Iter(1e-12,5))\n",
    "print('x = %.12f, количество итераций = %d'%Simple_Iter(1e-12,7))\n",
    "print(\"Как видно из сравнения методов по количеству итераций,метод Ньютона имеет меньшее число операций,чем метод простых итераций,а значит его скорость сходимости выше\")"
   ]
  },
  {
   "cell_type": "code",
   "execution_count": 207,
   "metadata": {},
   "outputs": [
    {
     "name": "stdout",
     "output_type": "stream",
     "text": [
      "Задание №2.9.1\n",
      "a) Локализовать корни уравнения f(x)=0. Уточнить их с точностью ε = 10^(-7), используя метод Ньютона. Для поиска кратного корня и определения его кратности следует использовать модификацию метода Ньютона для случая кратного корня с m=1,2,3. При любых ли начальных приближениях такой метод сходится? b) Рассмотреть уравнение f(x)+δ=0, где  δ = 10^(-8). Найти корень кратности 1, используя метод Ньютона. Применить для нахождения кратного корня соответствующую модификацию* метода Ньютона. Удается ли найти кратный корень? Если нет, то использовать метод Ньютона с комплексными начальными приближениями. Сохранился ли кратный корень? Объяснить результаты.\n",
      "3*(x^3) - 77*(x^2) + 605*x - 1331\n"
     ]
    }
   ],
   "source": [
    "print(\"Задание №2.9.1\")\n",
    "print(\"a) Локализовать корни уравнения f(x)=0. Уточнить их с точностью ε = 10^(-7), используя метод Ньютона. Для поиска кратного корня и определения его кратности следует использовать модификацию метода Ньютона для случая кратного корня с m=1,2,3. При любых ли начальных приближениях такой метод сходится? b) Рассмотреть уравнение f(x)+δ=0, где  δ = 10^(-8). Найти корень кратности 1, используя метод Ньютона. Применить для нахождения кратного корня соответствующую модификацию* метода Ньютона. Удается ли найти кратный корень? Если нет, то использовать метод Ньютона с комплексными начальными приближениями. Сохранился ли кратный корень? Объяснить результаты.\")\n",
    "print(\"3*(x^3) - 77*(x^2) + 605*x - 1331\")"
   ]
  },
  {
   "cell_type": "code",
   "execution_count": 208,
   "metadata": {},
   "outputs": [
    {
     "data": {
      "image/png": "[encoded data removed]",
      "text/plain": [
       "<Figure size 432x288 with 1 Axes>"
      ]
     },
     "metadata": {
      "needs_background": "light"
     },
     "output_type": "display_data"
    }
   ],
   "source": [
    "x = np.linspace(0, 13)\n",
    "y = 3*(x**(3)) - 77*(x**(2)) + 605*x - 1331\n",
    "plt.plot(x, y)\n",
    "plt.plot(x, x*0)\n",
    "plt.grid(True)\n",
    "def f2(x):\n",
    "    return 3*(x**(3)) - 77*(x**(2)) + 605*x - 1331\n",
    "def der_f2(x):\n",
    "    return 9*(x**(2)) -154*x + 605\n",
    "def Newton_modify(x0, f, der_f, eps):\n",
    "    krmin = 4\n",
    "    kolmin = 350\n",
    "    for m in range(2):\n",
    "        k = 0\n",
    "        x_ = x0\n",
    "        while True:\n",
    "            x1 = x_ - (m + 1) * f(x_) / der_f(x_)\n",
    "            k += 1\n",
    "            if (abs(x1 - x_) < eps):\n",
    "                if (kolmin > k):\n",
    "                    kolmin = k\n",
    "                    ans = x1\n",
    "                    krmin = m + 1\n",
    "                    break\n",
    "                break\n",
    "            x_ = x1\n",
    "            if k > 100:\n",
    "                break\n",
    "    return ans, kolmin, krmin"
   ]
  },
  {
   "cell_type": "code",
   "execution_count": 210,
   "metadata": {},
   "outputs": [
    {
     "name": "stdout",
     "output_type": "stream",
     "text": [
      "x = 3.6666667, количество итераций = 5, кратность = 1\n",
      "x = 11.0000000, количество итераций = 7, кратность = 2\n"
     ]
    }
   ],
   "source": [
    "print('x = %.7f, количество итераций = %d, кратность = %d'%Newton_modify(2,f2, der_f2, 1e-7))\n",
    "print('x = %.7f, количество итераций = %d, кратность = %d'%Newton_modify(8,f2, der_f2, 1e-7))"
   ]
  },
  {
   "cell_type": "code",
   "execution_count": 211,
   "metadata": {},
   "outputs": [
    {
     "data": {
      "image/png": "[encoded data removed]",
      "text/plain": [
       "<Figure size 432x288 with 1 Axes>"
      ]
     },
     "metadata": {
      "needs_background": "light"
     },
     "output_type": "display_data"
    }
   ],
   "source": [
    "x = np.linspace(0, 13)\n",
    "y = 3*(x**(3)) - 77*(x**(2)) + 605*x - 1331 + 1e-8\n",
    "plt.plot(x, y)\n",
    "plt.plot(x, x*0)\n",
    "plt.grid(True)\n",
    "def f3(x):\n",
    "    return 3*(x**(3)) - 77*(x**(2)) + 605*x - 1331 + 1e-8\n",
    "def der_f3(x):\n",
    "    return 9*(x**(2)) -154*x + 605"
   ]
  },
  {
   "cell_type": "code",
   "execution_count": 248,
   "metadata": {},
   "outputs": [
    {
     "name": "stdout",
     "output_type": "stream",
     "text": [
      "x = 3.6666667, количество итераций = 5\n",
      "x = 11.0000000, количество итераций = 7, кратность = 2\n"
     ]
    }
   ],
   "source": [
    "print('x = %.7f, количество итераций = %d'%Newton(2,f2, der_f2, 1e-7))\n",
    "print('x = %.7f, количество итераций = %d, кратность = %d'%Newton_modify(8,f2, der_f2, 1e-7))"
   ]
  },
  {
   "cell_type": "code",
   "execution_count": 249,
   "metadata": {},
   "outputs": [
    {
     "name": "stdout",
     "output_type": "stream",
     "text": [
      "Кратный корень удалось найти и он сохранился, т.к. добавленная константа при нашей заявленной точности никак не может повлиять на результат\n"
     ]
    }
   ],
   "source": [
    "print(\"Кратный корень удалось найти и он сохранился, т.к. добавленная константа при нашей заявленной точности никак не может повлиять на результат\")"
   ]
  },
  {
   "cell_type": "code",
   "execution_count": null,
   "metadata": {},
   "outputs": [],
   "source": []
  }
 ],
 "metadata": {
  "kernelspec": {
   "display_name": "Python 3",
   "language": "python",
   "name": "python3"
  },
  "language_info": {
   "codemirror_mode": {
    "name": "ipython",
    "version": 3
   },
   "file_extension": ".py",
   "mimetype": "text/x-python",
   "name": "python",
   "nbconvert_exporter": "python",
   "pygments_lexer": "ipython3",
   "version": "3.7.1"
  }
 },
 "nbformat": 4,
 "nbformat_minor": 2
}
